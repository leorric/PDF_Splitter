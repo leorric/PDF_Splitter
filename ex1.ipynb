{
 "cells": [
  {
   "cell_type": "code",
   "id": "initial_id",
   "metadata": {
    "collapsed": true,
    "ExecuteTime": {
     "end_time": "2025-10-21T06:16:47.271922Z",
     "start_time": "2025-10-21T06:16:47.269702Z"
    }
   },
   "source": [
    "def repeat(word, n):\n",
    "    print(word * n)\n",
    "\n",
    "repeat(\"spam, \", 4);"
   ],
   "outputs": [
    {
     "name": "stdout",
     "output_type": "stream",
     "text": [
      "spam, spam, spam, spam, \n"
     ]
    }
   ],
   "execution_count": 2
  },
  {
   "metadata": {},
   "cell_type": "code",
   "outputs": [],
   "execution_count": null,
   "source": "",
   "id": "46b5b21dab4edc2e"
  },
  {
   "metadata": {
    "ExecuteTime": {
     "end_time": "2025-10-23T09:48:29.459680Z",
     "start_time": "2025-10-23T09:48:29.456702Z"
    }
   },
   "cell_type": "code",
   "source": [
    "for line in open(\"res/word.txt\"):\n",
    "    print(line.strip())"
   ],
   "id": "22923561f2a44822",
   "outputs": [
    {
     "name": "stdout",
     "output_type": "stream",
     "text": [
      "Today is a good day.\n",
      "Tomorrow will be fine.\n"
     ]
    }
   ],
   "execution_count": 3
  },
  {
   "metadata": {
    "ExecuteTime": {
     "end_time": "2025-10-23T09:52:50.297568Z",
     "start_time": "2025-10-23T09:52:50.290852Z"
    }
   },
   "cell_type": "code",
   "source": [
    "word = 'Gadsby'\n",
    "'e' in word"
   ],
   "id": "972cda18536e3f7f",
   "outputs": [
    {
     "data": {
      "text/plain": [
       "False"
      ]
     },
     "execution_count": 4,
     "metadata": {},
     "output_type": "execute_result"
    }
   ],
   "execution_count": 4
  },
  {
   "metadata": {
    "ExecuteTime": {
     "end_time": "2025-10-27T04:13:13.992048Z",
     "start_time": "2025-10-27T04:13:13.946610Z"
    }
   },
   "cell_type": "code",
   "source": [
    "from PyPDF2 import PdfReader, PdfWriter, Transformation\n",
    "reader = PdfReader(\"res/June.pdf\")\n",
    "page = reader.pages[3]\n",
    "# print(page)\n",
    "print(page.cropbox)\n",
    "# RectangleObject([0, 0, 1233.72, 841.92])\n",
    "lower_left = page.cropbox.lower_left\n",
    "print(lower_left)\n",
    "left_page = lower_left + (page.cropbox.upper_right[0]/2, page.cropbox.upper_right[1])\n",
    "print(left_page)\n",
    "right_page = (page.cropbox.upper_right[0]/2, page.cropbox.lower_left[1]) + page.cropbox.upper_right\n",
    "print(right_page)\n",
    "writer_left = PdfWriter()\n",
    "writer_right = PdfWriter()\n",
    "new_left_page = writer_left.add_blank_page(width=left_page[2]-left_page[0], height=left_page[3]-left_page[1])\n",
    "new_left_page.add_transformation(Transformation().scale(1).translate(tx=-left_page[0], ty=-left_page[1]))\n",
    "page.merge_page(new_left_page)\n",
    "\n",
    "writer_left.add_page(new_left_page)\n",
    "\n",
    "with open(\"res/\" +\"pdf_left1.pdf\", \"wb\") as fp:\n",
    "    writer_left.write(fp)"
   ],
   "id": "2f256a1aabfb3bd7",
   "outputs": [
    {
     "name": "stdout",
     "output_type": "stream",
     "text": [
      "RectangleObject([0, 0, 841.2, 1227.12])\n",
      "(0, 0)\n",
      "(0, 0, Decimal('420.6'), 1227.12)\n",
      "(Decimal('420.6'), 0, 841.2, 1227.12)\n"
     ]
    }
   ],
   "execution_count": 13
  },
  {
   "metadata": {
    "ExecuteTime": {
     "end_time": "2025-10-28T07:45:45.182242Z",
     "start_time": "2025-10-28T07:45:45.120140Z"
    }
   },
   "cell_type": "code",
   "source": [
    "from PyPDF2 import PdfReader, PdfWriter, Transformation\n",
    "\n",
    "reader = PdfReader(\"res/June.pdf\")\n",
    "page = reader.pages[3]\n",
    "\n",
    "# 获取页面尺寸\n",
    "cropbox = page.cropbox\n",
    "width = float(cropbox.width)\n",
    "height = float(cropbox.height)\n",
    "print(f\"Page size: {width} x {height}\")\n",
    "\n",
    "# 定义左半和右半的裁剪区域\n",
    "left_bbox = [0, 0, width / 2, height]      # 左半\n",
    "right_bbox = [width / 2, 0, width, height] # 右半\n",
    "\n",
    "writer_left = PdfWriter()\n",
    "writer_right = PdfWriter()\n",
    "\n",
    "# 创建两个空白页（大小为原页面的一半）\n",
    "# new_left_page = writer_left.add_blank_page(width=left_bbox[2]-left_bbox[0], height=height)\n",
    "# new_right_page = writer_right.add_blank_page(width=right_bbox[2]-right_bbox[0], height=height)\n",
    "#\n",
    "# # 将原页面内容合并到左页，并向左平移，使右半部分被裁掉\n",
    "# page_mutable = page.clone()\n",
    "# # 向左移动半个页面宽度，这样右边的内容就移出可视区域\n",
    "# trans_left = Transformation().translate(tx=-width/2, ty=0)\n",
    "# page_mutable.add_transformation(trans_left)\n",
    "# new_left_page.merge_page(page_mutable)\n",
    "#\n",
    "# # 将原页面内容合并到右页，并向左移动，使左半部分被裁掉\n",
    "# page_mutable2 = page.clone()\n",
    "# trans_right = Transformation().translate(tx=-width, ty=0)  # 移动整个宽度，再裁右边？\n",
    "# 更准确的做法是先合并，再裁剪显示区域\n",
    "\n",
    "# 更推荐方式：使用 scale + translate 实现裁剪效果\n",
    "# 方法：缩放为1，然后平移，使得只显示目标区域\n",
    "\n",
    "# # 正确方式：使用 Transformation 裁剪显示区域\n",
    "def create_cropped_page(source_page, crop_rect, writer):\n",
    "    \"\"\"\n",
    "    从 source_page 中提取 crop_rect 区域（[x1, y1, x2, y2]）\n",
    "    \"\"\"\n",
    "    x1, y1, x2, y2 = crop_rect\n",
    "    w = x2 - x1\n",
    "    h = y2 - y1\n",
    "\n",
    "    new_page = writer.add_blank_page(width=w, height=h)\n",
    "    trans = Transformation().translate(tx=-x1, ty=-y1)\n",
    "    new_page.merge_page(source_page)\n",
    "    new_page.add_transformation(trans)\n",
    "    return new_page\n",
    "\n",
    "# 生成左右两页\n",
    "new_left_page = create_cropped_page(page, left_bbox, writer_left)\n",
    "new_right_page = create_cropped_page(page, right_bbox, writer_right)\n",
    "\n",
    "writer_left.add_page(new_left_page)\n",
    "writer_right.add_page(new_right_page)\n",
    "\n",
    "# 保存\n",
    "with open(\"res/pdf_left.pdf\", \"wb\") as fp:\n",
    "    writer_left.write(fp)\n",
    "\n",
    "with open(\"res/pdf_right.pdf\", \"wb\") as fp:\n",
    "    writer_right.write(fp)\n",
    "\n",
    "print(\"Split complete: pdf_left.pdf and pdf_right.pdf\")"
   ],
   "id": "a5ead84cfb3a674b",
   "outputs": [
    {
     "name": "stdout",
     "output_type": "stream",
     "text": [
      "Page size: 841.2 x 1227.12\n",
      "Split complete: pdf_left.pdf and pdf_right.pdf\n"
     ]
    }
   ],
   "execution_count": 16
  },
  {
   "metadata": {},
   "cell_type": "markdown",
   "source": "",
   "id": "1be650ba62c73635"
  },
  {
   "metadata": {},
   "cell_type": "markdown",
   "source": "# Another version of splitting",
   "id": "7585d75e15225de7"
  },
  {
   "metadata": {
    "ExecuteTime": {
     "end_time": "2025-10-29T09:45:37.334326Z",
     "start_time": "2025-10-29T09:45:37.291284Z"
    }
   },
   "cell_type": "code",
   "source": [
    "from pypdf import PdfReader, PdfWriter\n",
    "reader = PdfReader(\"res/June.pdf\")\n",
    "rot = int(page.get(\"/Rotate\", 0) or 0)\n",
    "\n",
    "print(f\"rotation: {rot}\")"
   ],
   "id": "89e63e75487a8230",
   "outputs": [
    {
     "name": "stdout",
     "output_type": "stream",
     "text": [
      "rotation: 0\n"
     ]
    }
   ],
   "execution_count": 11
  },
  {
   "metadata": {
    "ExecuteTime": {
     "end_time": "2025-10-29T10:03:04.196377Z",
     "start_time": "2025-10-29T10:02:56.112367Z"
    }
   },
   "cell_type": "code",
   "source": [
    "# python\n",
    "from pypdf import PdfReader, PdfWriter\n",
    "import copy\n",
    "\n",
    "reader = PdfReader(\"res/June.pdf\")\n",
    "writer = PdfWriter()\n",
    "\n",
    "for index, page in enumerate(reader.pages):\n",
    "    rot = int(page.get(\"/Rotate\", 0) or 0)\n",
    "    print(f\"page: {index+1}, rotation: {rot}\")\n",
    "    # prefer CropBox if present, otherwise MediaBox\n",
    "    box = page.cropbox if \"/CropBox\" in page else page.mediabox\n",
    "\n",
    "    left = float(box.left)\n",
    "    right = float(box.right)\n",
    "    bottom = float(box.bottom)\n",
    "    top = float(box.top)\n",
    "\n",
    "    if rot % 180 == 0:\n",
    "        # normal orientation: split by vertical center (x)\n",
    "        mid = (left + right) / 2.0\n",
    "\n",
    "        left_page = copy.deepcopy(page)\n",
    "        # ensure both boxes reflect the new visible area\n",
    "        left_page.mediabox.right = mid\n",
    "        left_page.cropbox.right = mid\n",
    "        writer.add_page(left_page)\n",
    "\n",
    "        right_page = copy.deepcopy(page)\n",
    "        right_page.mediabox.left = mid\n",
    "        right_page.cropbox.left = mid\n",
    "        writer.add_page(right_page)\n",
    "    else:\n",
    "        # rotated 90 or 270: split by horizontal center in PDF coords (y)\n",
    "        mid = (bottom + top) / 2.0\n",
    "\n",
    "        left_page = copy.deepcopy(page)\n",
    "        left_page.mediabox.top = mid\n",
    "        left_page.cropbox.top = mid\n",
    "        writer.add_page(left_page)\n",
    "\n",
    "        right_page = copy.deepcopy(page)\n",
    "        right_page.mediabox.bottom = mid\n",
    "        right_page.cropbox.bottom = mid\n",
    "        writer.add_page(right_page)\n",
    "\n",
    "with open(\"res/June_split.pdf\", \"wb\") as out_f:\n",
    "    writer.write(out_f)"
   ],
   "id": "ec3641b9dfec34b8",
   "outputs": [
    {
     "name": "stdout",
     "output_type": "stream",
     "text": [
      "page: 1, rotation: 0\n",
      "page: 2, rotation: 90\n",
      "page: 3, rotation: 270\n",
      "page: 4, rotation: 90\n",
      "page: 5, rotation: 270\n",
      "page: 6, rotation: 90\n",
      "page: 7, rotation: 270\n",
      "page: 8, rotation: 90\n",
      "page: 9, rotation: 270\n",
      "page: 10, rotation: 90\n",
      "page: 11, rotation: 270\n",
      "page: 12, rotation: 90\n",
      "page: 13, rotation: 270\n",
      "page: 14, rotation: 90\n",
      "page: 15, rotation: 270\n",
      "page: 16, rotation: 90\n",
      "page: 17, rotation: 270\n",
      "page: 18, rotation: 90\n",
      "page: 19, rotation: 270\n",
      "page: 20, rotation: 90\n",
      "page: 21, rotation: 270\n",
      "page: 22, rotation: 90\n",
      "page: 23, rotation: 270\n",
      "page: 24, rotation: 90\n",
      "page: 25, rotation: 270\n",
      "page: 26, rotation: 90\n",
      "page: 27, rotation: 270\n",
      "page: 28, rotation: 90\n",
      "page: 29, rotation: 270\n",
      "page: 30, rotation: 90\n",
      "page: 31, rotation: 270\n",
      "page: 32, rotation: 90\n",
      "page: 33, rotation: 270\n",
      "page: 34, rotation: 90\n",
      "page: 35, rotation: 270\n",
      "page: 36, rotation: 90\n",
      "page: 37, rotation: 270\n",
      "page: 38, rotation: 90\n",
      "page: 39, rotation: 270\n",
      "page: 40, rotation: 90\n",
      "page: 41, rotation: 270\n",
      "page: 42, rotation: 90\n",
      "page: 43, rotation: 270\n",
      "page: 44, rotation: 90\n",
      "page: 45, rotation: 270\n",
      "page: 46, rotation: 90\n",
      "page: 47, rotation: 270\n",
      "page: 48, rotation: 90\n",
      "page: 49, rotation: 270\n",
      "page: 50, rotation: 90\n",
      "page: 51, rotation: 270\n",
      "page: 52, rotation: 90\n",
      "page: 53, rotation: 270\n",
      "page: 54, rotation: 90\n",
      "page: 55, rotation: 270\n",
      "page: 56, rotation: 90\n",
      "page: 57, rotation: 270\n",
      "page: 58, rotation: 90\n",
      "page: 59, rotation: 270\n",
      "page: 60, rotation: 90\n",
      "page: 61, rotation: 270\n",
      "page: 62, rotation: 90\n",
      "page: 63, rotation: 270\n",
      "page: 64, rotation: 90\n",
      "page: 65, rotation: 0\n"
     ]
    }
   ],
   "execution_count": 15
  },
  {
   "metadata": {
    "ExecuteTime": {
     "end_time": "2025-10-29T09:58:48.794196Z",
     "start_time": "2025-10-29T09:58:40.431453Z"
    }
   },
   "cell_type": "code",
   "source": [
    "# python\n",
    "from pypdf import PdfReader, PdfWriter\n",
    "import copy\n",
    "\n",
    "reader = PdfReader(\"res/June.pdf\")\n",
    "writer = PdfWriter()\n",
    "\n",
    "for page in reader.pages:\n",
    "    # get numeric coordinates\n",
    "    left_x = float(page.mediabox.left)\n",
    "    right_x = float(page.mediabox.right)\n",
    "    mid_x = (left_x + right_x) / 2.0\n",
    "\n",
    "    # left half\n",
    "    left_page = copy.deepcopy(page)\n",
    "    left_page.mediabox.right = mid_x\n",
    "    left_page.cropbox.right = mid_x\n",
    "    writer.add_page(left_page)\n",
    "\n",
    "    # right half\n",
    "    right_page = copy.deepcopy(page)\n",
    "    right_page.mediabox.left = mid_x\n",
    "    right_page.cropbox.left = mid_x\n",
    "    writer.add_page(right_page)\n",
    "\n",
    "with open(\"res/June_split_test.pdf\", \"wb\") as out_f:\n",
    "    writer.write(out_f)"
   ],
   "id": "103c5b0d115ac6b2",
   "outputs": [],
   "execution_count": 13
  },
  {
   "metadata": {},
   "cell_type": "code",
   "outputs": [],
   "execution_count": null,
   "source": "",
   "id": "9746519c4b8049cd"
  }
 ],
 "metadata": {
  "kernelspec": {
   "display_name": "Python 3",
   "language": "python",
   "name": "python3"
  },
  "language_info": {
   "codemirror_mode": {
    "name": "ipython",
    "version": 2
   },
   "file_extension": ".py",
   "mimetype": "text/x-python",
   "name": "python",
   "nbconvert_exporter": "python",
   "pygments_lexer": "ipython2",
   "version": "2.7.6"
  }
 },
 "nbformat": 4,
 "nbformat_minor": 5
}
